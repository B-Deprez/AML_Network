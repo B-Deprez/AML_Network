{
 "cells": [
  {
   "cell_type": "code",
   "execution_count": null,
   "metadata": {},
   "outputs": [],
   "source": [
    "import pandas as pd\n",
    "import matplotlib.pyplot as plt"
   ]
  },
  {
   "cell_type": "code",
   "execution_count": null,
   "metadata": {},
   "outputs": [],
   "source": [
    "files_with_results_TD = [\n",
    "    'misc/intrinsic_TD.csv',\n",
    "    'misc/positional_TD.csv',\n",
    "    'misc/deepwalk_TD.csv',\n",
    "    'misc/node2vec_TD.csv',\n",
    "    'misc/gcn_TD.csv',\n",
    "    'misc/sage_TD.csv',\n",
    "    'misc/gat_TD.csv',\n",
    "    'misc/gin_TD.csv'\n",
    "]\n",
    "\n",
    "files_with_results_TI = [\n",
    "    'misc/intrinsic_TI.csv',\n",
    "    'misc/positional_TI.csv',\n",
    "    'misc/deepwalk_TI.csv',\n",
    "    'misc/node2vec_TI.csv',\n",
    "    'misc/gcn_TI.csv',\n",
    "    'misc/sage_TI.csv',\n",
    "    'misc/gat_TI.csv',\n",
    "    'misc/gin_TI.csv'\n",
    "]"
   ]
  },
  {
   "cell_type": "code",
   "execution_count": null,
   "metadata": {},
   "outputs": [],
   "source": [
    "for file in files_with_results_TI:\n",
    "    try:\n",
    "        df = pd.read_csv(file)\n",
    "        AUC_mean = df['AUC'].mean()\n",
    "        AUC_std = df['AUC'].std()\n",
    "        AP_mean = df['AP'].mean()\n",
    "        AP_std = df['AP'].std()\n",
    "        print(f'{file} ${AUC_mean:.4f} \\pm {AUC_std:.4f}$ & ${AP_mean:.4f} \\pm {AP_std:.4f}$')\n",
    "    except:\n",
    "        print(f'Error reading file {file}')"
   ]
  },
  {
   "cell_type": "code",
   "execution_count": null,
   "metadata": {},
   "outputs": [],
   "source": [
    "for file in files_with_results_TD:\n",
    "    print('------------------')\n",
    "    print(f'{file}')\n",
    "    try:\n",
    "        df = pd.read_csv(file)\n",
    "        for col in df.columns:\n",
    "            if col != 'Unnamed: 0':\n",
    "                df_mean = df[col].mean()\n",
    "                df_std = df[col].std()\n",
    "                print(f'{col} ${df_mean:.4f} \\pm {df_std:.4f}$')\n",
    "    except:\n",
    "        print(f'Error reading file {file}')"
   ]
  }
 ],
 "metadata": {
  "kernelspec": {
   "display_name": "base",
   "language": "python",
   "name": "python3"
  },
  "language_info": {
   "codemirror_mode": {
    "name": "ipython",
    "version": 3
   },
   "file_extension": ".py",
   "mimetype": "text/x-python",
   "name": "python",
   "nbconvert_exporter": "python",
   "pygments_lexer": "ipython3",
   "version": "3.11.0"
  }
 },
 "nbformat": 4,
 "nbformat_minor": 2
}
