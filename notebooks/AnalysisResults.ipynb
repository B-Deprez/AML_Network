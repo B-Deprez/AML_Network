{
 "cells": [
  {
   "cell_type": "code",
   "execution_count": null,
   "metadata": {},
   "outputs": [],
   "source": [
    "import pandas as pd\n",
    "import matplotlib.pyplot as plt"
   ]
  },
  {
   "cell_type": "code",
   "execution_count": null,
   "metadata": {},
   "outputs": [],
   "source": [
    "dataset = \"elliptic\"  # Change this to the dataset you want to analyze\n",
    "use_intrinsic = True\n",
    "intrinsic_str = \"intrinsic\" if use_intrinsic else \"no_intrinsic\"\n",
    "\n",
    "files_with_results_TD = [\n",
    "    'res/'+dataset+'_intrinsic_TD.csv',\n",
    "    'res/'+dataset+'_positional_'+intrinsic_str+'_TD.csv',\n",
    "    'res/'+dataset+'_deepwalk_'+intrinsic_str+'_TD.csv',\n",
    "    'res/'+dataset+'_node2vec_'+intrinsic_str+'_TD.csv',\n",
    "    'res/'+dataset+'_gcn_'+intrinsic_str+'_TD.csv',\n",
    "    'res/'+dataset+'_sage_'+intrinsic_str+'_TD.csv',\n",
    "    'res/'+dataset+'_gat_'+intrinsic_str+'_TD.csv',\n",
    "    'res/'+dataset+'_gin_'+intrinsic_str+'_TD.csv'\n",
    "]\n",
    "\n",
    "files_with_results_TI = [\n",
    "    'res/'+dataset+'_intrinsic_TI.csv',\n",
    "    'res/'+dataset+'_positional_'+intrinsic_str+'_TI.csv',\n",
    "    'res/'+dataset+'_deepwalk_'+intrinsic_str+'_TI.csv',\n",
    "    'res/'+dataset+'_node2vec_'+intrinsic_str+'_TI.csv',\n",
    "    'res/'+dataset+'_gcn_'+intrinsic_str+'_TI.csv',\n",
    "    'res/'+dataset+'_sage_'+intrinsic_str+'_TI.csv',\n",
    "    'res/'+dataset+'_gat_'+intrinsic_str+'_TI.csv',\n",
    "    'res/'+dataset+'_gin_'+intrinsic_str+'_TI.csv'\n",
    "]\n",
    "\n",
    "if not use_intrinsic:\n",
    "    files_with_results_TD = files_with_results_TD[1:]\n",
    "    files_with_results_TI = files_with_results_TI[1:]"
   ]
  },
  {
   "cell_type": "code",
   "execution_count": null,
   "metadata": {},
   "outputs": [],
   "source": [
    "files_with_results_TD = [\n",
    "    'res/'+dataset+'_intrinsic_unsupervised_'+intrinsic_str+'_TD.csv',\n",
    "    'res/'+dataset+'_positional_unsupervised_'+intrinsic_str+'_TD.csv',\n",
    "    'res/'+dataset+'_deepwalk_unsupervised_'+intrinsic_str+'_TD.csv',\n",
    "    'res'+dataset+'_node2vec_unsupervised_'+intrinsic_str+'_TD.csv'\n",
    "]\n",
    "\n",
    "files_with_results_TI = [\n",
    "    'res/'+dataset+'_intrinsic_unsupervised_'+intrinsic_str+'_TI.csv',\n",
    "    'res/'+dataset+'_positional_unsupervised_'+intrinsic_str+'_TI.csv',\n",
    "    'res/'+dataset+'_deepwalk_unsupervised_'+intrinsic_str+'_TI.csv',\n",
    "    'res/'+dataset+'_node2vec_unsupervised_'+intrinsic_str+'_TI.csv'\n",
    "]"
   ]
  },
  {
   "cell_type": "code",
   "execution_count": null,
   "metadata": {},
   "outputs": [],
   "source": [
    "for file in files_with_results_TI:\n",
    "    try:\n",
    "        df = pd.read_csv(\"../\"+file)\n",
    "        AUC_mean = df['AUC'].mean()\n",
    "        AUC_std = df['AUC'].std()\n",
    "        AP_mean = df['AP'].mean()\n",
    "        AP_std = df['AP'].std()\n",
    "        print(f'{file} ${AUC_mean:.4f} \\pm {AUC_std:.4f}$ & ${AP_mean:.4f} \\pm {AP_std:.4f}$')\n",
    "    except:\n",
    "        print(f'Error reading file {file}')"
   ]
  },
  {
   "cell_type": "code",
   "execution_count": null,
   "metadata": {},
   "outputs": [],
   "source": [
    "for file in files_with_results_TD:\n",
    "    print('------------------')\n",
    "    print(f'{file}')\n",
    "    try:\n",
    "        df = pd.read_csv(\"../\"+file)\n",
    "        for col in df.columns:\n",
    "            if col != 'Unnamed: 0':\n",
    "                df_mean = df[col].mean()\n",
    "                df_std = df[col].std()\n",
    "                print(f'{col} ${df_mean:.4f} \\pm {df_std:.4f}$')\n",
    "    except:\n",
    "        print(f'Error reading file {file}')"
   ]
  },
  {
   "cell_type": "code",
   "execution_count": null,
   "metadata": {},
   "outputs": [],
   "source": [
    "file = files_with_results_TI[2]\n",
    "df = pd.read_csv(\"../\"+file)\n",
    "df['Method'] = file.split('_')[1]  # Extract the method name from the file name\n"
   ]
  },
  {
   "cell_type": "code",
   "execution_count": null,
   "metadata": {},
   "outputs": [],
   "source": [
    "df.head()"
   ]
  },
  {
   "cell_type": "code",
   "execution_count": null,
   "metadata": {},
   "outputs": [],
   "source": [
    "df_list = []\n",
    "for file in files_with_results_TI:\n",
    "    try:\n",
    "        df = pd.read_csv(\"../\"+file)\n",
    "        df['Method'] = file.split('_')[1]  # Extract the method name from the file name\n",
    "        df_list.append(df)\n",
    "    except:\n",
    "        print(f'Error reading file {file}')"
   ]
  },
  {
   "cell_type": "code",
   "execution_count": null,
   "metadata": {},
   "outputs": [],
   "source": [
    "df_list"
   ]
  },
  {
   "cell_type": "code",
   "execution_count": null,
   "metadata": {},
   "outputs": [],
   "source": [
    "result = pd.concat(df_list, ignore_index=True)\n",
    "result.head()"
   ]
  },
  {
   "cell_type": "code",
   "execution_count": null,
   "metadata": {},
   "outputs": [],
   "source": [
    "import seaborn as sns\n",
    "import matplotlib.pyplot as plt\n",
    "if use_intrinsic:\n",
    "    title_plot = f'AUC-ROC for {dataset} dataset'\n",
    "else:\n",
    "    title_plot = f'AUC-ROC for {dataset} dataset without intrinsic features'\n",
    "\n",
    "sns.boxplot(x='Method',y ='AUC', hue='Method', data=result, palette='tab10',showmeans=True, meanprops={'marker':'*', 'markerfacecolor':'xkcd:steel', 'markeredgecolor':'.3', 'markersize': 10}, medianprops={'color': 'black', 'linewidth':2,'label': '_median_', 'linewidth':3})\n",
    "plt.title(title_plot)\n",
    "plt.xlabel('Method')\n",
    "plt.ylabel('AUC-ROC')\n",
    "plt.xticks(rotation=45)\n",
    "plt.tight_layout()\n",
    "plt.grid(True,which=\"both\",ls=\"--\",c='gray', alpha=0.3)\n",
    "plt.savefig(f'../res/{dataset}_AUC_ROC_{intrinsic_str}.pdf', bbox_inches='tight')\n",
    "plt.show()"
   ]
  },
  {
   "cell_type": "code",
   "execution_count": null,
   "metadata": {},
   "outputs": [],
   "source": [
    "if use_intrinsic:\n",
    "    title_plot = f'AUC-PR for {dataset} dataset'\n",
    "else:\n",
    "    title_plot = f'AUC-PR for {dataset} dataset without intrinsic features'\n",
    "\n",
    "sns.boxplot(x='Method',y ='AP', hue='Method', data=result, palette='tab10',showmeans=True, meanprops={'marker':'*', 'markerfacecolor':'xkcd:steel', 'markeredgecolor':'.3', 'markersize': 10}, medianprops={'color': 'black', 'linewidth':2,'label': '_median_', 'linewidth':3})\n",
    "plt.title(title_plot)\n",
    "plt.xlabel('Method')\n",
    "plt.ylabel('AUC-PR')\n",
    "plt.xticks(rotation=45)\n",
    "plt.tight_layout()\n",
    "plt.grid(True,which=\"both\",ls=\"--\",c='gray', alpha=0.3)\n",
    "plt.savefig(f'../res/{dataset}_AUC_PR_{intrinsic_str}.pdf', bbox_inches='tight')\n",
    "plt.show()"
   ]
  },
  {
   "cell_type": "code",
   "execution_count": null,
   "metadata": {},
   "outputs": [],
   "source": [
    "fig,ax = plt.subplots(2, 2, figsize=(10, 6))\n",
    "#use_intrinsic_list = [True, False]\n",
    "use_intrinsic = True\n",
    "metric_list = ['AUC', 'AP']\n",
    "dataset_list = ['elliptic', 'ibm']\n",
    "#for i, use_intrinsic in enumerate(use_intrinsic_list):\n",
    "for i, dataset in enumerate(dataset_list):\n",
    "    for j, metric in enumerate(metric_list):\n",
    "        intrinsic_str = \"intrinsic\" if use_intrinsic else \"no_intrinsic\"\n",
    "\n",
    "        files_with_results_TI = [\n",
    "            'res/'+dataset+'_intrinsic_TI.csv',\n",
    "            'res/'+dataset+'_positional_'+intrinsic_str+'_TI.csv',\n",
    "            'res/'+dataset+'_deepwalk_'+intrinsic_str+'_TI.csv',\n",
    "            'res/'+dataset+'_node2vec_'+intrinsic_str+'_TI.csv',\n",
    "            'res/'+dataset+'_gcn_'+intrinsic_str+'_TI.csv',\n",
    "            'res/'+dataset+'_sage_'+intrinsic_str+'_TI.csv',\n",
    "            'res/'+dataset+'_gat_'+intrinsic_str+'_TI.csv',\n",
    "            'res/'+dataset+'_gin_'+intrinsic_str+'_TI.csv'\n",
    "        ]\n",
    "\n",
    "        if not use_intrinsic:\n",
    "            files_with_results_TI = files_with_results_TI[1:]\n",
    "\n",
    "        df_list = []\n",
    "        for file in files_with_results_TI:\n",
    "            try:\n",
    "                df = pd.read_csv(\"../\"+file)\n",
    "                df['Method'] = file.split('_')[1]  # Extract the method name from the file name\n",
    "                df_list.append(df)\n",
    "            except:\n",
    "                print(f'Error reading file {file}')\n",
    "\n",
    "        result = pd.concat(df_list, ignore_index=True)\n",
    "        \n",
    "        if metric == 'AUC':\n",
    "            if use_intrinsic:\n",
    "                title_plot = f'AUC-ROC for {dataset} dataset'\n",
    "            else:\n",
    "                title_plot = f'AUC-ROC for {dataset} dataset without intrinsic features'\n",
    "        else:\n",
    "            if use_intrinsic:\n",
    "                title_plot = f'AUC-PR for {dataset} dataset'\n",
    "            else:\n",
    "                title_plot = f'AUC-PR for {dataset} dataset without intrinsic features'\n",
    "\n",
    "        sns.boxplot(ax=ax[j,i],x='Method',y =metric, hue='Method', data=result, palette='tab10',showmeans=True, meanprops={'marker':'*', 'markerfacecolor':'xkcd:steel', 'markeredgecolor':'.3', 'markersize': 10}, medianprops={'color': 'black', 'linewidth':2,'label': '_median_', 'linewidth':3})\n",
    "        ax[j,i].set_title(title_plot)\n",
    "        ax[j,i].tick_params(axis='x', rotation=45)\n",
    "        ax[j,i].grid(True, which=\"both\", ls=\"--\", c='gray', alpha=0.3)\n",
    "plt.tight_layout()\n",
    "plt.savefig(f'../res/AUC_ROC_PR.pdf', bbox_inches='tight')"
   ]
  },
  {
   "cell_type": "code",
   "execution_count": null,
   "metadata": {},
   "outputs": [],
   "source": []
  }
 ],
 "metadata": {
  "kernelspec": {
   "display_name": "base",
   "language": "python",
   "name": "python3"
  },
  "language_info": {
   "codemirror_mode": {
    "name": "ipython",
    "version": 3
   },
   "file_extension": ".py",
   "mimetype": "text/x-python",
   "name": "python",
   "nbconvert_exporter": "python",
   "pygments_lexer": "ipython3",
   "version": "3.11.0"
  }
 },
 "nbformat": 4,
 "nbformat_minor": 2
}
