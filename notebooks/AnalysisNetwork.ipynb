{
 "cells": [
  {
   "cell_type": "markdown",
   "metadata": {},
   "source": [
    "# Analysis Network"
   ]
  },
  {
   "cell_type": "markdown",
   "metadata": {},
   "source": [
    "This notebook will look at some network metrics to include in Deprez, B., Vanderschueren, T., Baesens, B., Verdonck, T., & Verbeke, W. (2024). Network Analytics for Anti-Money Laundering--A Systematic Literature Review and Experimental Evaluation. arXiv preprint arXiv:2405.19383."
   ]
  },
  {
   "cell_type": "code",
   "execution_count": null,
   "metadata": {},
   "outputs": [],
   "source": [
    "import os\n",
    "\n",
    "os.chdir(\"../\")\n",
    "\n",
    "from src.data.DatasetConstruction import *"
   ]
  },
  {
   "cell_type": "code",
   "execution_count": null,
   "metadata": {},
   "outputs": [],
   "source": [
    "# Import of required libraries and packages\n",
    "import igraph as ig\n",
    "import easygui\n",
    "from matplotlib import pyplot as plt\n",
    "import numpy as np\n",
    "import scipy\n",
    "import statistics\n",
    "import pandas as pd\n",
    "print(ig.__version__)"
   ]
  },
  {
   "cell_type": "markdown",
   "metadata": {},
   "source": [
    "## Elliptic"
   ]
  },
  {
   "cell_type": "markdown",
   "metadata": {},
   "source": [
    "We start with the analysis of the elliptic dataset. "
   ]
  },
  {
   "cell_type": "code",
   "execution_count": null,
   "metadata": {},
   "outputs": [],
   "source": [
    "ntw_elliptic = load_elliptic()\n",
    "ntw_elliptic_nx = ntw_elliptic.get_network_nx()"
   ]
  },
  {
   "cell_type": "code",
   "execution_count": null,
   "metadata": {},
   "outputs": [],
   "source": [
    "ntw_elliptic_nx.number_of_nodes()"
   ]
  },
  {
   "cell_type": "code",
   "execution_count": null,
   "metadata": {},
   "outputs": [],
   "source": [
    "graph_el = ig.Graph.from_networkx(ntw_elliptic_nx)\n",
    "degree_el = graph_el.degree(); print('degree done')\n",
    "betweenness_el = graph_el.betweenness(); print('betweenness done')\n",
    "avg_path_length_el = graph_el.average_path_length(); print('avg_path_length done')\n",
    "closeness_el = graph_el.closeness(); print('closeness done')\n",
    "pagerank_el = graph_el.pagerank(); print('pagerank done')\n",
    "clustering_el = graph_el.transitivity_undirected(); print('clustering done')"
   ]
  },
  {
   "cell_type": "code",
   "execution_count": null,
   "metadata": {},
   "outputs": [],
   "source": [
    "print('Elliptic')\n",
    "print('Avg Degree: ', np.mean(degree_el))\n",
    "print('Avg Path Length: ', avg_path_length_el)\n",
    "print('Clustering: ', clustering_el)"
   ]
  },
  {
   "cell_type": "code",
   "execution_count": null,
   "metadata": {},
   "outputs": [],
   "source": [
    "plt.hist(betweenness_el, bins = 100, label='degree')\n",
    "plt.xscale('log')\n",
    "plt.yscale('log')"
   ]
  },
  {
   "cell_type": "code",
   "execution_count": null,
   "metadata": {},
   "outputs": [],
   "source": [
    "plt.hist(closeness_el, bins = 50, label='degree')\n",
    "#plt.xscale('log')\n",
    "#plt.yscale('log')"
   ]
  },
  {
   "cell_type": "code",
   "execution_count": null,
   "metadata": {},
   "outputs": [],
   "source": [
    "uq_pos_degree = sorted(set(degree_el))\n",
    "out_hist = [degree_el.count(x) for x in uq_pos_degree]\n",
    "\n",
    "x_el = np.asarray(uq_pos_degree, dtype = float)\n",
    "y_el = np.asarray(out_hist, dtype = float)\n",
    "\n",
    "plt.scatter(x_el, y_el, label='degree')\n",
    "plt.xscale('log')\n",
    "plt.yscale('log')"
   ]
  },
  {
   "cell_type": "code",
   "execution_count": null,
   "metadata": {},
   "outputs": [],
   "source": [
    "plt.scatter(degree_el, betweenness_el, label='betweenness')\n",
    "plt.xscale('log')\n",
    "plt.yscale('log')"
   ]
  },
  {
   "cell_type": "markdown",
   "metadata": {},
   "source": [
    "# IBM-AML"
   ]
  },
  {
   "cell_type": "code",
   "execution_count": null,
   "metadata": {},
   "outputs": [],
   "source": [
    "ntw_ibm = load_ibm()\n",
    "ntw_ibm_nx = ntw_ibm.get_network_nx()"
   ]
  },
  {
   "cell_type": "code",
   "execution_count": null,
   "metadata": {},
   "outputs": [],
   "source": [
    "ntw_ibm_nx.number_of_edges()"
   ]
  },
  {
   "cell_type": "code",
   "execution_count": null,
   "metadata": {},
   "outputs": [],
   "source": [
    "graph_ibm = ig.Graph.from_networkx(ntw_ibm_nx)\n",
    "degree_ibm = graph_ibm.degree(); print('degree done')\n",
    "betweenness_ibm = graph_ibm.betweenness(); print('betweenness done')\n",
    "avg_path_length_ibm = graph_ibm.average_path_length(); print('avg_path_length done')\n",
    "closeness_ibm = graph_ibm.closeness(); print('closeness done')\n",
    "pagerank_ibm = graph_ibm.pagerank(); print('pagerank done')\n",
    "clustering_ibm = graph_ibm.transitivity_undirected(); print('clustering done')"
   ]
  },
  {
   "cell_type": "code",
   "execution_count": null,
   "metadata": {},
   "outputs": [],
   "source": [
    "print('IBM')\n",
    "print('Avg Degree: ', np.mean(degree_ibm))\n",
    "print('Avg Path Length: ', avg_path_length_ibm)\n",
    "print('Clustering: ', clustering_ibm)"
   ]
  },
  {
   "cell_type": "code",
   "execution_count": null,
   "metadata": {},
   "outputs": [],
   "source": [
    "plt.hist(degree_ibm, bins = 200, label='degree')\n",
    "plt.xscale('log')\n",
    "plt.yscale('log')"
   ]
  },
  {
   "cell_type": "code",
   "execution_count": null,
   "metadata": {},
   "outputs": [],
   "source": [
    "plt.hist(closeness_ibm,bins=50, label='closeness')"
   ]
  },
  {
   "cell_type": "code",
   "execution_count": null,
   "metadata": {},
   "outputs": [],
   "source": [
    "uq_pos_degree = sorted(set(degree_ibm))\n",
    "out_hist = [degree_ibm.count(x) for x in uq_pos_degree]\n",
    "\n",
    "x_ibm = np.asarray(uq_pos_degree, dtype = float)\n",
    "y_ibm = np.asarray(out_hist, dtype = float)\n",
    "\n",
    "plt.scatter(x_ibm, y_ibm, label='degree')\n",
    "plt.xscale('log')\n",
    "plt.yscale('log')"
   ]
  },
  {
   "cell_type": "code",
   "execution_count": null,
   "metadata": {},
   "outputs": [],
   "source": [
    "plt.scatter(degree_ibm, betweenness_ibm, label='betweenness')\n",
    "plt.xscale('log')\n",
    "plt.yscale('log')"
   ]
  },
  {
   "cell_type": "markdown",
   "metadata": {},
   "source": [
    "## Comparison"
   ]
  },
  {
   "cell_type": "code",
   "execution_count": null,
   "metadata": {},
   "outputs": [],
   "source": [
    "plt.scatter(x_el, y_el, label='Elliptic', alpha=0.6)\n",
    "plt.scatter(x_ibm, y_ibm, label='IBM-AML', alpha=0.6)\n",
    "plt.legend()\n",
    "plt.title('Degree distribution')\n",
    "plt.xlabel('Degree (log)')\n",
    "plt.ylabel('Frequency (log)')\n",
    "plt.xscale('log')\n",
    "plt.yscale('log')\n",
    "plt.tight_layout()\n",
    "plt.savefig('degree_distribution_elliptic_ibm.pdf')"
   ]
  },
  {
   "cell_type": "code",
   "execution_count": null,
   "metadata": {},
   "outputs": [],
   "source": [
    "bins = np.linspace(0, 1, 100)\n",
    "plt.hist(closeness_el, bins = bins, label='Elliptic', alpha=0.7)\n",
    "plt.hist(closeness_ibm, bins = bins, label='IBM-AML', alpha=0.7)\n",
    "plt.title('Closeness distribution')\n",
    "plt.legend()\n",
    "plt.xlabel('Closeness Centrality')\n",
    "plt.ylabel('Frequency')\n",
    "plt.tight_layout()\n",
    "plt.savefig('closeness_distribution_elliptic_ibm.pdf')"
   ]
  },
  {
   "cell_type": "code",
   "execution_count": null,
   "metadata": {},
   "outputs": [],
   "source": [
    "2557904/500000"
   ]
  },
  {
   "cell_type": "code",
   "execution_count": null,
   "metadata": {},
   "outputs": [],
   "source": []
  }
 ],
 "metadata": {
  "kernelspec": {
   "display_name": "base",
   "language": "python",
   "name": "python3"
  },
  "language_info": {
   "codemirror_mode": {
    "name": "ipython",
    "version": 3
   },
   "file_extension": ".py",
   "mimetype": "text/x-python",
   "name": "python",
   "nbconvert_exporter": "python",
   "pygments_lexer": "ipython3",
   "version": "3.11.0"
  }
 },
 "nbformat": 4,
 "nbformat_minor": 2
}
