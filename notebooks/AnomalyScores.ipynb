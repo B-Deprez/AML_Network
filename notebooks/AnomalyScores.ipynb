{
 "cells": [
  {
   "cell_type": "code",
   "execution_count": null,
   "id": "39eab1d8",
   "metadata": {},
   "outputs": [],
   "source": [
    "import os\n",
    "\n",
    "os.chdir(\"../\")\n",
    "\n",
    "import pandas as pd\n",
    "import numpy as np\n",
    "from src.data.DatasetConstruction import *\n",
    "from src.methods.utils.isolation_forest  import *"
   ]
  },
  {
   "cell_type": "code",
   "execution_count": null,
   "id": "8f687fbe",
   "metadata": {},
   "outputs": [],
   "source": [
    "ntw = load_elliptic()\n",
    "ntw_torch = ntw.get_network_torch()\n",
    "X = ntw_torch.x\n",
    "y = ntw_torch.y\n",
    "\n",
    "X = X[:,1:94]\n",
    "X_train = X.numpy(); print('Shape of X_train:', X_train.shape)\n",
    "y_train = y.numpy()"
   ]
  },
  {
   "cell_type": "code",
   "execution_count": null,
   "id": "1fb1a509",
   "metadata": {},
   "outputs": [],
   "source": [
    "clf = IsolationForest(\n",
    "    bootstrap=True)\n",
    "clf.fit(X_train)"
   ]
  },
  {
   "cell_type": "code",
   "execution_count": null,
   "id": "a28d71f0",
   "metadata": {},
   "outputs": [],
   "source": [
    "scores = True\n",
    "if scores:\n",
    "    y_scores = clf.score_samples(X_train)\n",
    "else:\n",
    "    y_scores = clf.predict(X_train) \n",
    "y_min = y_scores.min()\n",
    "y_max = y_scores.max()\n",
    "\n",
    "bins = np.linspace(y_min, y_max, 50)"
   ]
  },
  {
   "cell_type": "code",
   "execution_count": null,
   "id": "9c3c4209",
   "metadata": {},
   "outputs": [],
   "source": [
    "df_scores_labels = pd.DataFrame({'label': y_train, 'score':y_scores})\n",
    "df_scores_labeled = df_scores_labels[df_scores_labels['label']<2]"
   ]
  },
  {
   "cell_type": "code",
   "execution_count": null,
   "id": "ec60eade",
   "metadata": {},
   "outputs": [],
   "source": [
    "import matplotlib.pyplot as plt\n",
    "\n",
    "# Separate the scores by label\n",
    "scores_label_0 = df_scores_labels[df_scores_labels['label'] == 0]['score']\n",
    "scores_label_1 = df_scores_labels[df_scores_labels['label'] == 1]['score']\n",
    "scores_label_2 = df_scores_labels[df_scores_labels['label'] == 2]['score']\n",
    "\n",
    "# Normalize the histograms\n",
    "plt.hist(scores_label_0, bins=bins, alpha=0.4, label='Legit', color='blue', density=True)\n",
    "plt.hist(scores_label_1, bins=bins, alpha=0.4, label='Money Laundering', color='green', density=True)\n",
    "#plt.hist(scores_label_2, bins=bins, alpha=0.4, label='Unknown', color='red', density=True)\n",
    "\n",
    "# Add labels and legend\n",
    "plt.xlabel('Anomaly Score')\n",
    "plt.ylabel('Density')\n",
    "if scores:\n",
    "    title = 'Normalized Histogram of Anomaly Scores by True Label'\n",
    "else:\n",
    "    title = 'Normalized Histogram of Predicted Labels by True Label'\n",
    "plt.title(title)\n",
    "plt.legend(loc='upper right')\n",
    "\n",
    "# Show the plot\n",
    "#plt.savefig(\"misc/isolation_forest_histogram_normalized\"+str(scores)+\".png\")\n",
    "plt.close()\n",
    "\n",
    "# Plot the histograms\n",
    "plt.hist(scores_label_0, bins=bins, alpha=0.4, label='Legit', color='blue')\n",
    "plt.hist(scores_label_1, bins=bins, alpha=0.4, label='Money Laundering', color='green')\n",
    "#plt.hist(scores_label_2, bins=bins, alpha=0.4, label='Unknown', color='red')\n",
    "\n",
    "# Add labels and legend\n",
    "plt.xlabel('Anomaly Score')\n",
    "plt.ylabel('Count (log scale)')\n",
    "\n",
    "if scores:\n",
    "    title = 'Histogram of Anomaly Scores by True Label'\n",
    "else:\n",
    "    title = 'Histogram of Predicted Labels by True Label'\n",
    "plt.title(title)    \n",
    "plt.legend(loc='upper right')\n",
    "\n",
    "# Show the plot\n",
    "plt.savefig(\"misc/isolation_forest_histogram\"+str(scores)+\".pdf\")"
   ]
  },
  {
   "cell_type": "code",
   "execution_count": null,
   "id": "e2ff7e2a",
   "metadata": {},
   "outputs": [],
   "source": []
  }
 ],
 "metadata": {
  "kernelspec": {
   "display_name": "base",
   "language": "python",
   "name": "python3"
  },
  "language_info": {
   "codemirror_mode": {
    "name": "ipython",
    "version": 3
   },
   "file_extension": ".py",
   "mimetype": "text/x-python",
   "name": "python",
   "nbconvert_exporter": "python",
   "pygments_lexer": "ipython3",
   "version": "3.11.0"
  }
 },
 "nbformat": 4,
 "nbformat_minor": 5
}
